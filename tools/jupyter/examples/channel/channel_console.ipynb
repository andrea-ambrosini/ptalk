{
 "cells": [
  {
   "cell_type": "markdown",
   "id": "5ccf0ba5-a07b-48ed-9ced-418a4aa488ac",
   "metadata": {},
   "source": [
    "[Documentation of GRPC use in Python](https://grpc.io/docs/languages/python/)\n",
    "\n",
    "To exec the code below, you have to run the script in /tools/generate_grpc_api.sh\n",
    "\n",
    "It will create the Python classes starting from the proto files.\n",
    "\n",
    "To run the script, open a terminal tab and type \"~/tools/generate_grpc_api.sh\", the output should be:\n",
    "\n",
    "```\n",
    "(base) jovyan@9b15573c79cd:~/tools$ ~/tools/generate_grpc_api.sh\n",
    "working on ptalk-ability-api\n",
    "working on ptalk-channel-api\n",
    "working on ptalk-nlu-api\n",
    "working on ptalk-channel-grpc-api\n",
    "working on ptalk-base-api\n",
    "```"
   ]
  },
  {
   "cell_type": "markdown",
   "id": "1afe6bf3-ef73-4a26-bdd0-872138e265da",
   "metadata": {},
   "source": [
    "If you want simulate a PTalk Engine to test this code, you can run \"./gradlew :ptalk-channel-api:execute\"\n",
    "\n",
    "```\n",
    "[andrea@legion-rossonet-com ptalk]$ ./gradlew :ptalk-channel-api:execute\n",
    "\n",
    "> Task :ptalk-channel-api:execute\n",
    "Fake engine started, press CTRL + C to exit\n",
    "<============-> 92% EXECUTING [14s]\n",
    "> :ptalk-channel-api:execute\n",
    "```\n",
    "\n"
   ]
  },
  {
   "cell_type": "code",
   "execution_count": null,
   "id": "d1c18c6f-ccc6-4ac9-bcce-7727cd43f3ae",
   "metadata": {
    "tags": []
   },
   "outputs": [],
   "source": [
    "import logging\n",
    "import grpc\n",
    "import sys\n",
    "sys.path.insert(1, '/home/jovyan/work/grpc-apis/base')\n",
    "sys.path.insert(2, '/home/jovyan/work/grpc-apis/channel')\n",
    "import ptalk_channel_api_pb2_grpc as channel_service\n",
    "import ptalk_channel_api_pb2 as channel_messages\n",
    "import ptalk_base_api_pb2 as base_messages\n",
    "import uuid\n",
    "from concurrent import futures"
   ]
  },
  {
   "cell_type": "code",
   "execution_count": null,
   "id": "ed288f04-9e91-45eb-8f37-cc712c8aaf8a",
   "metadata": {
    "tags": []
   },
   "outputs": [],
   "source": [
    "# set parameters\n",
    "\n",
    "host = \"192.168.1.59\"\n",
    "port_engine = 11216\n",
    "port_unit = 11214\n",
    "user_name = \"test-user\""
   ]
  },
  {
   "cell_type": "code",
   "execution_count": null,
   "id": "5c3df835-6a4d-4f41-b632-03dbc4976564",
   "metadata": {
    "tags": []
   },
   "outputs": [],
   "source": [
    "# create stub\n",
    "\n",
    "channel = grpc.insecure_channel(host+\":\"+str(port_engine))\n",
    "stub = channel_service.RpcChannelCoreV1Stub(channel)"
   ]
  },
  {
   "cell_type": "code",
   "execution_count": null,
   "id": "9b6d326d-f442-4438-9882-3f03f1843ba5",
   "metadata": {
    "tags": []
   },
   "outputs": [],
   "source": [
    "# create send message function\n",
    "\n",
    "def send(messageTxt):\n",
    "    stub.CallSync(channel_messages.ChannelMessageRequest(\n",
    "      channelUniqueName = user_name,\n",
    "      channelUniqueMessageId = str(uuid.uuid1()),\n",
    "      message = base_messages.Data(value = messageTxt)\n",
    "    ))\n",
    "    return \"ok\""
   ]
  },
  {
   "cell_type": "code",
   "execution_count": null,
   "id": "ec39dd7a-f466-42db-a61f-543ea176354c",
   "metadata": {
    "tags": []
   },
   "outputs": [],
   "source": [
    "# run console\n",
    "\n",
    "# Gradio documentation: https://gradio.app/docs/\n",
    "\n",
    "import gradio as gr\n",
    "import queue\n",
    "\n",
    "queue = queue.Queue()\n",
    "\n",
    "with gr.Blocks() as console_channel:\n",
    "    chatbot = gr.Chatbot()\n",
    "    msg = gr.Textbox()\n",
    "    clear = gr.Button(\"Clear\")\n",
    "\n",
    "    def user(user_message, history):\n",
    "        send(user_message) \n",
    "        return \"\", history + [[user_message, queue.get(True, 5)]]\n",
    "    \n",
    "    msg.submit(user, [msg, chatbot], [msg, chatbot], queue=False)\n",
    "    clear.click(lambda: None, None, chatbot, queue=False)"
   ]
  },
  {
   "cell_type": "code",
   "execution_count": null,
   "id": "5851beae-cd79-4b97-b6f9-3076f6997a7e",
   "metadata": {
    "tags": []
   },
   "outputs": [],
   "source": [
    "# class need to manage input message\n",
    "\n",
    "class UnitChannelService(channel_service.RpcChannelUnitV1Servicer):\n",
    "    def CallSync(self, request, context):\n",
    "        metadata = dict(context.invocation_metadata())\n",
    "        #print(\"METADATA \", metadata)\n",
    "        #print(\"MESSAGE: \", request)\n",
    "        queue.put(request.message.value)\n",
    "        return channel_messages.ChannelMessageReply()"
   ]
  },
  {
   "cell_type": "code",
   "execution_count": null,
   "id": "cac7b0ae-c87f-4108-824c-a9c105b3ce19",
   "metadata": {
    "tags": []
   },
   "outputs": [],
   "source": [
    "# run channel unit service\n",
    "\n",
    "server = grpc.server(futures.ThreadPoolExecutor(max_workers=10))\n",
    "def run_unit_server():\n",
    "  channel_service.add_RpcChannelUnitV1Servicer_to_server(UnitChannelService(),server)\n",
    "  server.add_insecure_port(\"[::]:\" + str(port_unit))\n",
    "  server.start()\n",
    "  server.wait_for_termination()"
   ]
  },
  {
   "cell_type": "code",
   "execution_count": null,
   "id": "110671c1-716a-4167-ba70-76cdde023607",
   "metadata": {
    "tags": []
   },
   "outputs": [],
   "source": [
    "# run service and Gradio console\n",
    "\n",
    "import threading, time\n",
    "thread = threading.Thread(target=run_unit_server)\n",
    "thread.start()\n",
    "time.sleep(1) # wait unit server start\n",
    "\n",
    "console_channel.launch(share=True)"
   ]
  },
  {
   "cell_type": "code",
   "execution_count": null,
   "id": "cfe25433-33c3-44bb-a92b-17bf395b806c",
   "metadata": {
    "tags": []
   },
   "outputs": [],
   "source": [
    "# stop server\n",
    "\n",
    "server.stop(1)\n",
    "thread.join()\n",
    "exit()"
   ]
  }
 ],
 "metadata": {
  "kernelspec": {
   "display_name": "Python 3 (ipykernel)",
   "language": "python",
   "name": "python3"
  },
  "language_info": {
   "codemirror_mode": {
    "name": "ipython",
    "version": 3
   },
   "file_extension": ".py",
   "mimetype": "text/x-python",
   "name": "python",
   "nbconvert_exporter": "python",
   "pygments_lexer": "ipython3",
   "version": "3.10.9"
  }
 },
 "nbformat": 4,
 "nbformat_minor": 5
}
